{
 "cells": [
  {
   "cell_type": "code",
   "execution_count": 1,
   "id": "536d9996",
   "metadata": {},
   "outputs": [],
   "source": [
    "import pandas as pd\n",
    "import numpy as np\n",
    "from sklearn.model_selection import train_test_split"
   ]
  },
  {
   "cell_type": "code",
   "execution_count": 2,
   "id": "24cdcf16",
   "metadata": {},
   "outputs": [],
   "source": [
    "# create encoding dictionary\n",
    "def labelDict(df):\n",
    "    gloss_dict = {}\n",
    "    count = 0\n",
    "    for gloss in df.gloss:\n",
    "        if gloss not in gloss_dict.keys():\n",
    "            gloss_dict[gloss] = count\n",
    "            count += 1\n",
    "    return gloss_dict"
   ]
  },
  {
   "cell_type": "code",
   "execution_count": 9,
   "id": "4035872f",
   "metadata": {},
   "outputs": [],
   "source": [
    "# process data points\n",
    "def getKeypoints(df):   \n",
    "    data = []\n",
    "    for i in range(len(df)):\n",
    "        frame = []\n",
    "        for col in range(3, 45):\n",
    "            keypoint = df.iloc[i, col]\n",
    "            if keypoint == \"(0,0)\":\n",
    "                frame.append(0.00)\n",
    "                frame.append(0.00)\n",
    "            else:\n",
    "                keypoint = keypoint.strip(\"(\")\n",
    "                keypoint = keypoint.strip(')')\n",
    "                coor = keypoint.split(\", \")\n",
    "                frame.append(round(float(coor[0]) * 1000, 2))\n",
    "                frame.append(round(float(coor[1]) * 1000, 2))\n",
    "        frame = np.array(frame)\n",
    "        data.append(frame)    \n",
    "    return data"
   ]
  },
  {
   "cell_type": "code",
   "execution_count": 10,
   "id": "b70a8f6e",
   "metadata": {},
   "outputs": [],
   "source": [
    "def get_data(df):                   # df = pd.read_csv(\"processed.csv\")\n",
    "    df = df.drop(columns='Unnamed: 0')\n",
    "    \n",
    "    # process labels\n",
    "    gloss_dict = labelDict(df)\n",
    "    label = []\n",
    "    gloss = df.gloss\n",
    "    for i in range(int(len(gloss) / 70)):\n",
    "        label.append(gloss_dict[gloss[i * 70]])\n",
    "    y = np.array(label)\n",
    "    LABELS = [key for key in gloss_dict.keys()]\n",
    "\n",
    "    X = np.array(getKeypoints(df))   # len(X) == 1284850\n",
    "    X_ = np.array(X)      # X_.shape == (1284850, 84)\n",
    "    \n",
    "    np.savetxt('X.txt', X_, fmt='%f')\n",
    "    np.savetxt('y.txt', y, fmt='%d')\n",
    "    np.savetxt('labels.txt', LABELS, fmt='%s')"
   ]
  },
  {
   "cell_type": "code",
   "execution_count": 11,
   "id": "212bc190",
   "metadata": {},
   "outputs": [],
   "source": [
    "df = pd.read_csv(\"processed_norm.csv\")"
   ]
  },
  {
   "cell_type": "code",
   "execution_count": 12,
   "id": "d24423c2",
   "metadata": {},
   "outputs": [],
   "source": [
    "get_data(df)"
   ]
  }
 ],
 "metadata": {
  "kernelspec": {
   "display_name": "Python 3",
   "language": "python",
   "name": "python3"
  },
  "language_info": {
   "codemirror_mode": {
    "name": "ipython",
    "version": 3
   },
   "file_extension": ".py",
   "mimetype": "text/x-python",
   "name": "python",
   "nbconvert_exporter": "python",
   "pygments_lexer": "ipython3",
   "version": "3.8.8"
  }
 },
 "nbformat": 4,
 "nbformat_minor": 5
}
